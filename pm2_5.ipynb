{
 "cells": [
  {
   "cell_type": "code",
   "execution_count": 26,
   "id": "b989f97a",
   "metadata": {},
   "outputs": [],
   "source": [
    "import pandas as pd\n",
    "import sys,os\n",
    "from pyspark import SparkContext\n",
    "from pyspark.sql import SQLContext\n",
    "from pyspark.sql.types import *\n",
    "from datetime import datetime, timedelta\n",
    "from pyspark.sql.functions import to_timestamp\n",
    "from pyspark.sql.functions import *\n",
    "from pyspark.sql.functions import avg, round\n",
    "import pyspark.sql.functions as f\n",
    "from pyspark.sql import Window\n",
    "\n",
    "sc = SparkContext.getOrCreate()\n",
    "spark = SQLContext(sc)\n",
    "df = spark.read.format(\"csv\").option(\"enconding\",\"BIG5\").option(\"header\", \"true\").option(\"inferSchema\", \"true\").load(\"aqx_p_432.csv\")"
   ]
  },
  {
   "cell_type": "code",
   "execution_count": 27,
   "id": "da608c6e",
   "metadata": {},
   "outputs": [
    {
     "name": "stdout",
     "output_type": "stream",
     "text": [
      "root\n",
      " |-- sitename: string (nullable = true)\n",
      " |-- county: string (nullable = true)\n",
      " |-- aqi: integer (nullable = true)\n",
      " |-- pollutant: string (nullable = true)\n",
      " |-- status: string (nullable = true)\n",
      " |-- so2: double (nullable = true)\n",
      " |-- co: double (nullable = true)\n",
      " |-- o3: double (nullable = true)\n",
      " |-- o3_8hr: double (nullable = true)\n",
      " |-- pm10: integer (nullable = true)\n",
      " |-- pm2.5: integer (nullable = true)\n",
      " |-- no2: double (nullable = true)\n",
      " |-- nox: double (nullable = true)\n",
      " |-- no: double (nullable = true)\n",
      " |-- wind_speed: string (nullable = true)\n",
      " |-- wind_direc: string (nullable = true)\n",
      " |-- publishtime: string (nullable = true)\n",
      " |-- co_8hr: double (nullable = true)\n",
      " |-- pm2.5_avg: integer (nullable = true)\n",
      " |-- pm10_avg: integer (nullable = true)\n",
      " |-- so2_avg: integer (nullable = true)\n",
      " |-- longitude: double (nullable = true)\n",
      " |-- latitude: double (nullable = true)\n",
      " |-- siteid: integer (nullable = true)\n",
      "\n"
     ]
    }
   ],
   "source": [
    "df.printSchema()"
   ]
  },
  {
   "cell_type": "code",
   "execution_count": 28,
   "id": "8a177320",
   "metadata": {},
   "outputs": [
    {
     "name": "stdout",
     "output_type": "stream",
     "text": [
      "+--------+------+---+---------+------+---+----+----+------+----+-----+----+----+----+----------+----------+-------------------+------+---------+--------+-------+------------+-----------+------+\n",
      "|sitename|county|aqi|pollutant|status|so2|  co|  o3|o3_8hr|pm10|pm2.5| no2| nox|  no|wind_speed|wind_direc|        publishtime|co_8hr|pm2.5_avg|pm10_avg|so2_avg|   longitude|   latitude|siteid|\n",
      "+--------+------+---+---------+------+---+----+----+------+----+-----+----+----+----+----------+----------+-------------------+------+---------+--------+-------+------------+-----------+------+\n",
      "|    基隆|基隆市| 35|     null|  良好|1.3|0.14|39.2|  38.6|  13|    5| 1.8| 2.6| 0.8|       2.3|        90|2022/12/15 01:00:00|   0.1|        8|      18|      1|  121.760056|  25.129167|     1|\n",
      "|    汐止|新北市| 29|     null|  良好|0.9|0.14|36.2|  31.1|   5|    3| 3.6| 4.3| 0.7|       1.7|        32|2022/12/15 01:00:00|   0.1|        5|       9|      0|    121.6423|  25.067131|     2|\n",
      "|    萬里|新北市| 39|     null|  良好|0.3|0.15|40.2|  40.3|  29|    9| 1.1| 1.7| 0.5|       9.4|        25|2022/12/15 01:00:00|   0.1|       12|      36|      0|  121.689881|  25.179667|     3|\n",
      "|    新店|新北市| 23|     null|  良好|0.5|0.16|32.2|  25.7|   7|    2| 6.1| 6.9| 0.8|         1|       120|2022/12/15 01:00:00|   0.3|        2|       5|      0|  121.537778|  24.977222|     4|\n",
      "|    土城|新北市| 27|     null|  良好|0.5| 0.2|33.9|  29.8|  12|    2| 6.5| 7.0| 0.5|       1.3|        25|2022/12/15 01:00:00|   0.3|        2|       9|      0|  121.451861|  24.982528|     5|\n",
      "|    板橋|新北市| 38|     null|  良好|1.6| 0.2|32.8|  25.4|null|   41| 6.3| 6.8| 0.5|       2.1|       113|2022/12/15 01:00:00|   0.3|       11|      10|      1|  121.458667|  25.012972|     6|\n",
      "|    新莊|新北市| 26|     null|  良好|0.4|0.18|32.0|  28.2|   6|    2| 5.8| 6.6| 0.8|       2.8|        73|2022/12/15 01:00:00|   0.2|        5|      13|      0|    121.4325|  25.037972|     7|\n",
      "|    菜寮|新北市| 27|     null|  良好|0.7|0.19|34.0|  29.4|   3|    5| 7.5| 8.5| 1.0|         2|        93|2022/12/15 01:00:00|   0.3|        6|       8|      0|  121.481028|   25.06895|     8|\n",
      "|    林口|新北市| 26|     null|  良好|0.7|0.13|35.3|  28.9|  15|    1| 2.9| 4.0| 1.1|       3.2|        51|2022/12/15 01:00:00|   0.2|        4|      12|      0|121.36548982|25.07798949|     9|\n",
      "|    淡水|新北市| 33|     null|  良好|0.8|0.15|37.7|  36.5|   6|    1| 1.4| 2.3| 0.9|      null|      null|2022/12/15 01:00:00|   0.1|        3|       8|   null|  121.449239|    25.1645|    10|\n",
      "|    士林|臺北市| 32|     null|  良好|0.9|0.13|37.2|  35.2|   6|    1| 3.5| 3.7| 0.2|       2.8|       156|2022/12/15 01:00:00|   0.1|        3|       6|      0|121.51666356|25.10334003|    11|\n",
      "|    中山|臺北市| 23|     null|  良好|0.5|0.22|32.4|  25.3|   4|    2| 6.8| 8.0| 1.1|       2.5|       115|2022/12/15 01:00:00|   0.3|        5|      10|      0|  121.526528|  25.062361|    12|\n",
      "|    萬華|臺北市| 24|     null|  良好|0.6|0.19|33.5|  25.3|   5|    5| 6.4| 6.9| 0.5|       2.3|       103|2022/12/15 01:00:00|   0.3|        7|      10|      0|  121.507972|  25.046503|    13|\n",
      "|    古亭|臺北市| 27|     null|  良好|0.6|0.16|33.7|  29.7|   5|    3| 5.8| 6.0| 0.1|       1.3|        80|2022/12/15 01:00:00|   0.2|        6|       9|      0|  121.529556|  25.020608|    14|\n",
      "|    松山|臺北市| 23|     null|  良好|1.1|0.15|35.8|  25.9|  21|    1| 4.8| 5.7| 0.8|       1.5|        65|2022/12/15 01:00:00|   0.2|        6|      17|      1|  121.578611|      25.05|    15|\n",
      "|    大同|臺北市| 28|     null|  良好|0.6|0.25|29.7|  17.6|  11|    4| 7.6| 9.8| 2.2|         -|         -|2022/12/15 01:00:00|   0.6|        8|      21|      0|121.51342074|25.06331455|    16|\n",
      "|    桃園|桃園市| 27|     null|  良好|0.8|0.21|31.5|  29.1|   4|    2| 6.2| 7.5| 1.3|       1.9|        47|2022/12/15 01:00:00|   0.3|        6|       9|      1|121.30500531| 24.9947107|    17|\n",
      "|    大園|桃園市| 30|     null|  良好|3.8|0.18|25.8|  29.2|  15|    5|18.2|29.2|11.0|       6.5|        34|2022/12/15 01:00:00|   0.2|        7|      19|      2|121.20251473|25.06100357|    18|\n",
      "|    觀音|桃園市| 38|     null|  良好|3.4|0.12|37.4|  37.1|  17|    7| 2.9| 3.0| 0.1|       8.9|        47|2022/12/15 01:00:00|   0.1|       11|      23|      2|121.08283092|25.03556747|    19|\n",
      "|    平鎮|桃園市| 27|     null|  良好|1.2|0.17|29.6|  29.5|  16|    1| 9.8|10.5| 0.7|       3.1|        32|2022/12/15 01:00:00|   0.2|        6|      10|      1|  121.203986|  24.952786|    20|\n",
      "+--------+------+---+---------+------+---+----+----+------+----+-----+----+----+----+----------+----------+-------------------+------+---------+--------+-------+------------+-----------+------+\n",
      "only showing top 20 rows\n",
      "\n"
     ]
    }
   ],
   "source": [
    "df.show()"
   ]
  },
  {
   "cell_type": "code",
   "execution_count": null,
   "id": "caadb928",
   "metadata": {},
   "outputs": [],
   "source": []
  }
 ],
 "metadata": {
  "kernelspec": {
   "display_name": "Python 3 (ipykernel)",
   "language": "python",
   "name": "python3"
  },
  "language_info": {
   "codemirror_mode": {
    "name": "ipython",
    "version": 3
   },
   "file_extension": ".py",
   "mimetype": "text/x-python",
   "name": "python",
   "nbconvert_exporter": "python",
   "pygments_lexer": "ipython3",
   "version": "3.9.13"
  }
 },
 "nbformat": 4,
 "nbformat_minor": 5
}
